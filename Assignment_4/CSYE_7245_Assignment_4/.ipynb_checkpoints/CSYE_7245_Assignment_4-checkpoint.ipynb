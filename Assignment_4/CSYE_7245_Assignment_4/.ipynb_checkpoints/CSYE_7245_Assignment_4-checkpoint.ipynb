{
 "cells": [
  {
   "cell_type": "markdown",
   "metadata": {},
   "source": [
    "# Assignment 4 - Deep Learning"
   ]
  },
  {
   "cell_type": "code",
   "execution_count": 2,
   "metadata": {
    "collapsed": true
   },
   "outputs": [],
   "source": [
    "import pandas as pd\n",
    "import numpy as np\n",
    "import matplotlib.pyplot as plt\n",
    "import matplotlib.image as mpimg\n",
    "import seaborn as sns\n",
    "import time\n",
    "%matplotlib inline\n",
    "# !pip install keras\n",
    "# !pip install tensorflow"
   ]
  },
  {
   "cell_type": "code",
   "execution_count": 3,
   "metadata": {},
   "outputs": [
    {
     "name": "stderr",
     "output_type": "stream",
     "text": [
      "Using TensorFlow backend.\n"
     ]
    }
   ],
   "source": [
    "np.random.seed(2)\n",
    "\n",
    "from sklearn.model_selection import train_test_split\n",
    "from sklearn.metrics import confusion_matrix\n",
    "from sklearn.metrics import precision_recall_fscore_support as score\n",
    "import itertools\n",
    "from sklearn.datasets import make_moons\n",
    "\n",
    "# convert to one-hot-encoding\n",
    "from keras.utils.np_utils import to_categorical\n",
    "from keras.models import Sequential\n",
    "from keras.layers import Dense, Dropout, Flatten, Conv2D, MaxPool2D\n",
    "from keras.optimizers import RMSprop\n",
    "from keras.preprocessing.image import ImageDataGenerator\n",
    "from keras.callbacks import ReduceLROnPlateau\n",
    "\n",
    "\n",
    "sns.set(style='white', context='notebook', palette='deep')"
   ]
  },
  {
   "cell_type": "markdown",
   "metadata": {},
   "source": [
    "# Part A - Deep Learning Model"
   ]
  },
  {
   "cell_type": "code",
   "execution_count": 4,
   "metadata": {
    "collapsed": true
   },
   "outputs": [],
   "source": [
    "# Load the data\n",
    "train = pd.read_csv(\"training_BigDataAssignment4.csv\")\n",
    "test = pd.read_csv(\"testing_BigDataAssignment4.csv\")"
   ]
  },
  {
   "cell_type": "code",
   "execution_count": 5,
   "metadata": {},
   "outputs": [
    {
     "data": {
      "text/plain": [
       "1    4684\n",
       "7    4401\n",
       "3    4351\n",
       "9    4188\n",
       "2    4177\n",
       "6    4137\n",
       "0    4132\n",
       "4    4072\n",
       "8    4063\n",
       "5    3795\n",
       "Name: label, dtype: int64"
      ]
     },
     "execution_count": 5,
     "metadata": {},
     "output_type": "execute_result"
    },
    {
     "data": {
      "image/png": "[encoded data removed]",
      "text/plain": [
       "<matplotlib.figure.Figure at 0x1ef7faa6358>"
      ]
     },
     "metadata": {},
     "output_type": "display_data"
    }
   ],
   "source": [
    "Y_train = train[\"label\"]\n",
    "\n",
    "# drop 'label' column\n",
    "X_train = train.drop(labels = [\"label\"],axis = 1) \n",
    "\n",
    "# free some space\n",
    "del train \n",
    "\n",
    "g = sns.countplot(Y_train)\n",
    "\n",
    "Y_train.value_counts()"
   ]
  },
  {
   "cell_type": "markdown",
   "metadata": {},
   "source": [
    " ### Checking for Null and Missing Value"
   ]
  },
  {
   "cell_type": "code",
   "execution_count": 6,
   "metadata": {},
   "outputs": [
    {
     "data": {
      "text/plain": [
       "count       784\n",
       "unique        1\n",
       "top       False\n",
       "freq        784\n",
       "dtype: object"
      ]
     },
     "execution_count": 6,
     "metadata": {},
     "output_type": "execute_result"
    }
   ],
   "source": [
    "# Check the data\n",
    "X_train.isnull().any().describe()"
   ]
  },
  {
   "cell_type": "code",
   "execution_count": 7,
   "metadata": {},
   "outputs": [
    {
     "data": {
      "text/plain": [
       "count       784\n",
       "unique        1\n",
       "top       False\n",
       "freq        784\n",
       "dtype: object"
      ]
     },
     "execution_count": 7,
     "metadata": {},
     "output_type": "execute_result"
    }
   ],
   "source": [
    "test.isnull().any().describe()"
   ]
  },
  {
   "cell_type": "code",
   "execution_count": 8,
   "metadata": {},
   "outputs": [
    {
     "data": {
      "text/html": [
       "<div>\n",
       "<style>\n",
       "    .dataframe thead tr:only-child th {\n",
       "        text-align: right;\n",
       "    }\n",
       "\n",
       "    .dataframe thead th {\n",
       "        text-align: left;\n",
       "    }\n",
       "\n",
       "    .dataframe tbody tr th {\n",
       "        vertical-align: top;\n",
       "    }\n",
       "</style>\n",
       "<table border=\"1\" class=\"dataframe\">\n",
       "  <thead>\n",
       "    <tr style=\"text-align: right;\">\n",
       "      <th></th>\n",
       "      <th>pixel0</th>\n",
       "      <th>pixel1</th>\n",
       "      <th>pixel2</th>\n",
       "      <th>pixel3</th>\n",
       "      <th>pixel4</th>\n",
       "      <th>pixel5</th>\n",
       "      <th>pixel6</th>\n",
       "      <th>pixel7</th>\n",
       "      <th>pixel8</th>\n",
       "      <th>pixel9</th>\n",
       "      <th>...</th>\n",
       "      <th>pixel774</th>\n",
       "      <th>pixel775</th>\n",
       "      <th>pixel776</th>\n",
       "      <th>pixel777</th>\n",
       "      <th>pixel778</th>\n",
       "      <th>pixel779</th>\n",
       "      <th>pixel780</th>\n",
       "      <th>pixel781</th>\n",
       "      <th>pixel782</th>\n",
       "      <th>pixel783</th>\n",
       "    </tr>\n",
       "  </thead>\n",
       "  <tbody>\n",
       "    <tr>\n",
       "      <th>count</th>\n",
       "      <td>28000.0</td>\n",
       "      <td>28000.0</td>\n",
       "      <td>28000.0</td>\n",
       "      <td>28000.0</td>\n",
       "      <td>28000.0</td>\n",
       "      <td>28000.0</td>\n",
       "      <td>28000.0</td>\n",
       "      <td>28000.0</td>\n",
       "      <td>28000.0</td>\n",
       "      <td>28000.0</td>\n",
       "      <td>...</td>\n",
       "      <td>28000.000000</td>\n",
       "      <td>28000.000000</td>\n",
       "      <td>28000.000000</td>\n",
       "      <td>28000.000000</td>\n",
       "      <td>28000.000000</td>\n",
       "      <td>28000.0</td>\n",
       "      <td>28000.0</td>\n",
       "      <td>28000.0</td>\n",
       "      <td>28000.0</td>\n",
       "      <td>28000.0</td>\n",
       "    </tr>\n",
       "    <tr>\n",
       "      <th>mean</th>\n",
       "      <td>0.0</td>\n",
       "      <td>0.0</td>\n",
       "      <td>0.0</td>\n",
       "      <td>0.0</td>\n",
       "      <td>0.0</td>\n",
       "      <td>0.0</td>\n",
       "      <td>0.0</td>\n",
       "      <td>0.0</td>\n",
       "      <td>0.0</td>\n",
       "      <td>0.0</td>\n",
       "      <td>...</td>\n",
       "      <td>0.164607</td>\n",
       "      <td>0.073214</td>\n",
       "      <td>0.028036</td>\n",
       "      <td>0.011250</td>\n",
       "      <td>0.006536</td>\n",
       "      <td>0.0</td>\n",
       "      <td>0.0</td>\n",
       "      <td>0.0</td>\n",
       "      <td>0.0</td>\n",
       "      <td>0.0</td>\n",
       "    </tr>\n",
       "    <tr>\n",
       "      <th>std</th>\n",
       "      <td>0.0</td>\n",
       "      <td>0.0</td>\n",
       "      <td>0.0</td>\n",
       "      <td>0.0</td>\n",
       "      <td>0.0</td>\n",
       "      <td>0.0</td>\n",
       "      <td>0.0</td>\n",
       "      <td>0.0</td>\n",
       "      <td>0.0</td>\n",
       "      <td>0.0</td>\n",
       "      <td>...</td>\n",
       "      <td>5.473293</td>\n",
       "      <td>3.616811</td>\n",
       "      <td>1.813602</td>\n",
       "      <td>1.205211</td>\n",
       "      <td>0.807475</td>\n",
       "      <td>0.0</td>\n",
       "      <td>0.0</td>\n",
       "      <td>0.0</td>\n",
       "      <td>0.0</td>\n",
       "      <td>0.0</td>\n",
       "    </tr>\n",
       "    <tr>\n",
       "      <th>min</th>\n",
       "      <td>0.0</td>\n",
       "      <td>0.0</td>\n",
       "      <td>0.0</td>\n",
       "      <td>0.0</td>\n",
       "      <td>0.0</td>\n",
       "      <td>0.0</td>\n",
       "      <td>0.0</td>\n",
       "      <td>0.0</td>\n",
       "      <td>0.0</td>\n",
       "      <td>0.0</td>\n",
       "      <td>...</td>\n",
       "      <td>0.000000</td>\n",
       "      <td>0.000000</td>\n",
       "      <td>0.000000</td>\n",
       "      <td>0.000000</td>\n",
       "      <td>0.000000</td>\n",
       "      <td>0.0</td>\n",
       "      <td>0.0</td>\n",
       "      <td>0.0</td>\n",
       "      <td>0.0</td>\n",
       "      <td>0.0</td>\n",
       "    </tr>\n",
       "    <tr>\n",
       "      <th>25%</th>\n",
       "      <td>0.0</td>\n",
       "      <td>0.0</td>\n",
       "      <td>0.0</td>\n",
       "      <td>0.0</td>\n",
       "      <td>0.0</td>\n",
       "      <td>0.0</td>\n",
       "      <td>0.0</td>\n",
       "      <td>0.0</td>\n",
       "      <td>0.0</td>\n",
       "      <td>0.0</td>\n",
       "      <td>...</td>\n",
       "      <td>0.000000</td>\n",
       "      <td>0.000000</td>\n",
       "      <td>0.000000</td>\n",
       "      <td>0.000000</td>\n",
       "      <td>0.000000</td>\n",
       "      <td>0.0</td>\n",
       "      <td>0.0</td>\n",
       "      <td>0.0</td>\n",
       "      <td>0.0</td>\n",
       "      <td>0.0</td>\n",
       "    </tr>\n",
       "    <tr>\n",
       "      <th>50%</th>\n",
       "      <td>0.0</td>\n",
       "      <td>0.0</td>\n",
       "      <td>0.0</td>\n",
       "      <td>0.0</td>\n",
       "      <td>0.0</td>\n",
       "      <td>0.0</td>\n",
       "      <td>0.0</td>\n",
       "      <td>0.0</td>\n",
       "      <td>0.0</td>\n",
       "      <td>0.0</td>\n",
       "      <td>...</td>\n",
       "      <td>0.000000</td>\n",
       "      <td>0.000000</td>\n",
       "      <td>0.000000</td>\n",
       "      <td>0.000000</td>\n",
       "      <td>0.000000</td>\n",
       "      <td>0.0</td>\n",
       "      <td>0.0</td>\n",
       "      <td>0.0</td>\n",
       "      <td>0.0</td>\n",
       "      <td>0.0</td>\n",
       "    </tr>\n",
       "    <tr>\n",
       "      <th>75%</th>\n",
       "      <td>0.0</td>\n",
       "      <td>0.0</td>\n",
       "      <td>0.0</td>\n",
       "      <td>0.0</td>\n",
       "      <td>0.0</td>\n",
       "      <td>0.0</td>\n",
       "      <td>0.0</td>\n",
       "      <td>0.0</td>\n",
       "      <td>0.0</td>\n",
       "      <td>0.0</td>\n",
       "      <td>...</td>\n",
       "      <td>0.000000</td>\n",
       "      <td>0.000000</td>\n",
       "      <td>0.000000</td>\n",
       "      <td>0.000000</td>\n",
       "      <td>0.000000</td>\n",
       "      <td>0.0</td>\n",
       "      <td>0.0</td>\n",
       "      <td>0.0</td>\n",
       "      <td>0.0</td>\n",
       "      <td>0.0</td>\n",
       "    </tr>\n",
       "    <tr>\n",
       "      <th>max</th>\n",
       "      <td>0.0</td>\n",
       "      <td>0.0</td>\n",
       "      <td>0.0</td>\n",
       "      <td>0.0</td>\n",
       "      <td>0.0</td>\n",
       "      <td>0.0</td>\n",
       "      <td>0.0</td>\n",
       "      <td>0.0</td>\n",
       "      <td>0.0</td>\n",
       "      <td>0.0</td>\n",
       "      <td>...</td>\n",
       "      <td>253.000000</td>\n",
       "      <td>254.000000</td>\n",
       "      <td>193.000000</td>\n",
       "      <td>187.000000</td>\n",
       "      <td>119.000000</td>\n",
       "      <td>0.0</td>\n",
       "      <td>0.0</td>\n",
       "      <td>0.0</td>\n",
       "      <td>0.0</td>\n",
       "      <td>0.0</td>\n",
       "    </tr>\n",
       "  </tbody>\n",
       "</table>\n",
       "<p>8 rows × 784 columns</p>\n",
       "</div>"
      ],
      "text/plain": [
       "        pixel0   pixel1   pixel2   pixel3   pixel4   pixel5   pixel6   pixel7  \\\n",
       "count  28000.0  28000.0  28000.0  28000.0  28000.0  28000.0  28000.0  28000.0   \n",
       "mean       0.0      0.0      0.0      0.0      0.0      0.0      0.0      0.0   \n",
       "std        0.0      0.0      0.0      0.0      0.0      0.0      0.0      0.0   \n",
       "min        0.0      0.0      0.0      0.0      0.0      0.0      0.0      0.0   \n",
       "25%        0.0      0.0      0.0      0.0      0.0      0.0      0.0      0.0   \n",
       "50%        0.0      0.0      0.0      0.0      0.0      0.0      0.0      0.0   \n",
       "75%        0.0      0.0      0.0      0.0      0.0      0.0      0.0      0.0   \n",
       "max        0.0      0.0      0.0      0.0      0.0      0.0      0.0      0.0   \n",
       "\n",
       "        pixel8   pixel9    ...         pixel774      pixel775      pixel776  \\\n",
       "count  28000.0  28000.0    ...     28000.000000  28000.000000  28000.000000   \n",
       "mean       0.0      0.0    ...         0.164607      0.073214      0.028036   \n",
       "std        0.0      0.0    ...         5.473293      3.616811      1.813602   \n",
       "min        0.0      0.0    ...         0.000000      0.000000      0.000000   \n",
       "25%        0.0      0.0    ...         0.000000      0.000000      0.000000   \n",
       "50%        0.0      0.0    ...         0.000000      0.000000      0.000000   \n",
       "75%        0.0      0.0    ...         0.000000      0.000000      0.000000   \n",
       "max        0.0      0.0    ...       253.000000    254.000000    193.000000   \n",
       "\n",
       "           pixel777      pixel778  pixel779  pixel780  pixel781  pixel782  \\\n",
       "count  28000.000000  28000.000000   28000.0   28000.0   28000.0   28000.0   \n",
       "mean       0.011250      0.006536       0.0       0.0       0.0       0.0   \n",
       "std        1.205211      0.807475       0.0       0.0       0.0       0.0   \n",
       "min        0.000000      0.000000       0.0       0.0       0.0       0.0   \n",
       "25%        0.000000      0.000000       0.0       0.0       0.0       0.0   \n",
       "50%        0.000000      0.000000       0.0       0.0       0.0       0.0   \n",
       "75%        0.000000      0.000000       0.0       0.0       0.0       0.0   \n",
       "max      187.000000    119.000000       0.0       0.0       0.0       0.0   \n",
       "\n",
       "       pixel783  \n",
       "count   28000.0  \n",
       "mean        0.0  \n",
       "std         0.0  \n",
       "min         0.0  \n",
       "25%         0.0  \n",
       "50%         0.0  \n",
       "75%         0.0  \n",
       "max         0.0  \n",
       "\n",
       "[8 rows x 784 columns]"
      ]
     },
     "execution_count": 8,
     "metadata": {},
     "output_type": "execute_result"
    }
   ],
   "source": [
    "test.describe()"
   ]
  },
  {
   "cell_type": "code",
   "execution_count": 9,
   "metadata": {},
   "outputs": [
    {
     "data": {
      "text/html": [
       "<div>\n",
       "<style>\n",
       "    .dataframe thead tr:only-child th {\n",
       "        text-align: right;\n",
       "    }\n",
       "\n",
       "    .dataframe thead th {\n",
       "        text-align: left;\n",
       "    }\n",
       "\n",
       "    .dataframe tbody tr th {\n",
       "        vertical-align: top;\n",
       "    }\n",
       "</style>\n",
       "<table border=\"1\" class=\"dataframe\">\n",
       "  <thead>\n",
       "    <tr style=\"text-align: right;\">\n",
       "      <th></th>\n",
       "      <th>pixel0</th>\n",
       "      <th>pixel1</th>\n",
       "      <th>pixel2</th>\n",
       "      <th>pixel3</th>\n",
       "      <th>pixel4</th>\n",
       "      <th>pixel5</th>\n",
       "      <th>pixel6</th>\n",
       "      <th>pixel7</th>\n",
       "      <th>pixel8</th>\n",
       "      <th>pixel9</th>\n",
       "      <th>...</th>\n",
       "      <th>pixel774</th>\n",
       "      <th>pixel775</th>\n",
       "      <th>pixel776</th>\n",
       "      <th>pixel777</th>\n",
       "      <th>pixel778</th>\n",
       "      <th>pixel779</th>\n",
       "      <th>pixel780</th>\n",
       "      <th>pixel781</th>\n",
       "      <th>pixel782</th>\n",
       "      <th>pixel783</th>\n",
       "    </tr>\n",
       "  </thead>\n",
       "  <tbody>\n",
       "    <tr>\n",
       "      <th>0</th>\n",
       "      <td>0</td>\n",
       "      <td>0</td>\n",
       "      <td>0</td>\n",
       "      <td>0</td>\n",
       "      <td>0</td>\n",
       "      <td>0</td>\n",
       "      <td>0</td>\n",
       "      <td>0</td>\n",
       "      <td>0</td>\n",
       "      <td>0</td>\n",
       "      <td>...</td>\n",
       "      <td>0</td>\n",
       "      <td>0</td>\n",
       "      <td>0</td>\n",
       "      <td>0</td>\n",
       "      <td>0</td>\n",
       "      <td>0</td>\n",
       "      <td>0</td>\n",
       "      <td>0</td>\n",
       "      <td>0</td>\n",
       "      <td>0</td>\n",
       "    </tr>\n",
       "    <tr>\n",
       "      <th>1</th>\n",
       "      <td>0</td>\n",
       "      <td>0</td>\n",
       "      <td>0</td>\n",
       "      <td>0</td>\n",
       "      <td>0</td>\n",
       "      <td>0</td>\n",
       "      <td>0</td>\n",
       "      <td>0</td>\n",
       "      <td>0</td>\n",
       "      <td>0</td>\n",
       "      <td>...</td>\n",
       "      <td>0</td>\n",
       "      <td>0</td>\n",
       "      <td>0</td>\n",
       "      <td>0</td>\n",
       "      <td>0</td>\n",
       "      <td>0</td>\n",
       "      <td>0</td>\n",
       "      <td>0</td>\n",
       "      <td>0</td>\n",
       "      <td>0</td>\n",
       "    </tr>\n",
       "    <tr>\n",
       "      <th>2</th>\n",
       "      <td>0</td>\n",
       "      <td>0</td>\n",
       "      <td>0</td>\n",
       "      <td>0</td>\n",
       "      <td>0</td>\n",
       "      <td>0</td>\n",
       "      <td>0</td>\n",
       "      <td>0</td>\n",
       "      <td>0</td>\n",
       "      <td>0</td>\n",
       "      <td>...</td>\n",
       "      <td>0</td>\n",
       "      <td>0</td>\n",
       "      <td>0</td>\n",
       "      <td>0</td>\n",
       "      <td>0</td>\n",
       "      <td>0</td>\n",
       "      <td>0</td>\n",
       "      <td>0</td>\n",
       "      <td>0</td>\n",
       "      <td>0</td>\n",
       "    </tr>\n",
       "    <tr>\n",
       "      <th>3</th>\n",
       "      <td>0</td>\n",
       "      <td>0</td>\n",
       "      <td>0</td>\n",
       "      <td>0</td>\n",
       "      <td>0</td>\n",
       "      <td>0</td>\n",
       "      <td>0</td>\n",
       "      <td>0</td>\n",
       "      <td>0</td>\n",
       "      <td>0</td>\n",
       "      <td>...</td>\n",
       "      <td>0</td>\n",
       "      <td>0</td>\n",
       "      <td>0</td>\n",
       "      <td>0</td>\n",
       "      <td>0</td>\n",
       "      <td>0</td>\n",
       "      <td>0</td>\n",
       "      <td>0</td>\n",
       "      <td>0</td>\n",
       "      <td>0</td>\n",
       "    </tr>\n",
       "    <tr>\n",
       "      <th>4</th>\n",
       "      <td>0</td>\n",
       "      <td>0</td>\n",
       "      <td>0</td>\n",
       "      <td>0</td>\n",
       "      <td>0</td>\n",
       "      <td>0</td>\n",
       "      <td>0</td>\n",
       "      <td>0</td>\n",
       "      <td>0</td>\n",
       "      <td>0</td>\n",
       "      <td>...</td>\n",
       "      <td>0</td>\n",
       "      <td>0</td>\n",
       "      <td>0</td>\n",
       "      <td>0</td>\n",
       "      <td>0</td>\n",
       "      <td>0</td>\n",
       "      <td>0</td>\n",
       "      <td>0</td>\n",
       "      <td>0</td>\n",
       "      <td>0</td>\n",
       "    </tr>\n",
       "  </tbody>\n",
       "</table>\n",
       "<p>5 rows × 784 columns</p>\n",
       "</div>"
      ],
      "text/plain": [
       "   pixel0  pixel1  pixel2  pixel3  pixel4  pixel5  pixel6  pixel7  pixel8  \\\n",
       "0       0       0       0       0       0       0       0       0       0   \n",
       "1       0       0       0       0       0       0       0       0       0   \n",
       "2       0       0       0       0       0       0       0       0       0   \n",
       "3       0       0       0       0       0       0       0       0       0   \n",
       "4       0       0       0       0       0       0       0       0       0   \n",
       "\n",
       "   pixel9    ...     pixel774  pixel775  pixel776  pixel777  pixel778  \\\n",
       "0       0    ...            0         0         0         0         0   \n",
       "1       0    ...            0         0         0         0         0   \n",
       "2       0    ...            0         0         0         0         0   \n",
       "3       0    ...            0         0         0         0         0   \n",
       "4       0    ...            0         0         0         0         0   \n",
       "\n",
       "   pixel779  pixel780  pixel781  pixel782  pixel783  \n",
       "0         0         0         0         0         0  \n",
       "1         0         0         0         0         0  \n",
       "2         0         0         0         0         0  \n",
       "3         0         0         0         0         0  \n",
       "4         0         0         0         0         0  \n",
       "\n",
       "[5 rows x 784 columns]"
      ]
     },
     "execution_count": 9,
     "metadata": {},
     "output_type": "execute_result"
    }
   ],
   "source": [
    "X_train.head()"
   ]
  },
  {
   "cell_type": "markdown",
   "metadata": {},
   "source": [
    "* Checked for corrupted images (that is, missing values inside)\n",
    "* There is no missing values in the training and testing dataset"
   ]
  },
  {
   "cell_type": "markdown",
   "metadata": {},
   "source": [
    "## Normalization"
   ]
  },
  {
   "cell_type": "markdown",
   "metadata": {},
   "source": [
    "* Performing a grayscale normalization (as images are a single channel image / grayscale) to reduce the effect of illumination's differences\n",
    "* Also, the CNN converg faster on [0..1] data than on [0..255]"
   ]
  },
  {
   "cell_type": "code",
   "execution_count": 10,
   "metadata": {
    "collapsed": true
   },
   "outputs": [],
   "source": [
    "# Normalize the data\n",
    "X_train = X_train / 255.0\n",
    "test = test / 255.0"
   ]
  },
  {
   "cell_type": "markdown",
   "metadata": {},
   "source": [
    "## Reshape"
   ]
  },
  {
   "cell_type": "code",
   "execution_count": 11,
   "metadata": {
    "collapsed": true
   },
   "outputs": [],
   "source": [
    "# Reshape image in 3 dimensions (height = 28px, width = 28px , canal = 1)\n",
    "X_train = X_train.values.reshape(-1,28,28,1)\n",
    "test = test.values.reshape(-1,28,28,1)"
   ]
  },
  {
   "cell_type": "markdown",
   "metadata": {},
   "source": [
    "## Label Encoding"
   ]
  },
  {
   "cell_type": "code",
   "execution_count": 12,
   "metadata": {
    "collapsed": true
   },
   "outputs": [],
   "source": [
    "# Encode labels to one hot vectors (ex : 2 -> [0,0,1,0,0,0,0,0,0,0])\n",
    "Y_train = to_categorical(Y_train, num_classes = 10)"
   ]
  },
  {
   "cell_type": "markdown",
   "metadata": {},
   "source": [
    "Labels are 10 digits from 0 to 9. Encoded these lables to one hot vectors (ex : 2 -> [0,0,1,0,0,0,0,0,0,0])"
   ]
  },
  {
   "cell_type": "markdown",
   "metadata": {},
   "source": [
    "## Split Training & Valdiation Set"
   ]
  },
  {
   "cell_type": "code",
   "execution_count": 13,
   "metadata": {
    "collapsed": true
   },
   "outputs": [],
   "source": [
    "# Set the random seed\n",
    "random_seed = 2"
   ]
  },
  {
   "cell_type": "code",
   "execution_count": 14,
   "metadata": {
    "collapsed": true
   },
   "outputs": [],
   "source": [
    "# Split the training and the validation set for the fitting\n",
    "X_train, X_val, Y_train, Y_val = train_test_split(X_train, Y_train, test_size = 0.1, random_state=random_seed)"
   ]
  },
  {
   "cell_type": "code",
   "execution_count": 15,
   "metadata": {},
   "outputs": [
    {
     "data": {
      "image/png": "[encoded data removed]",
      "text/plain": [
       "<matplotlib.figure.Figure at 0x1ef005ab780>"
      ]
     },
     "metadata": {},
     "output_type": "display_data"
    }
   ],
   "source": [
    "# An example\n",
    "g = plt.imshow(X_train[5][:,:,0])"
   ]
  },
  {
   "cell_type": "markdown",
   "metadata": {},
   "source": [
    "# Part B - Activation Function"
   ]
  },
  {
   "cell_type": "markdown",
   "metadata": {},
   "source": [
    "## CNN"
   ]
  },
  {
   "cell_type": "markdown",
   "metadata": {},
   "source": [
    "Define the model \n",
    "The Keras Sequential API is used, where you have just to add one layer at a time, starting from the input.\n",
    "\n",
    "The first is the convolutional (Conv2D) layer. It is like a set of learnable filters.Set 32 filters for the two firsts conv2D layers and 64 filters for the two last ones. Each filter transforms a part of the image (defined by the kernel size) using the kernel filter. The kernel filter matrix is applied on the whole image. Filters can be seen as a transformation of the image.\n",
    "\n",
    "The CNN can isolate features that are useful everywhere from these transformed images (feature maps).\n",
    "\n",
    "The second important layer in CNN is the pooling (MaxPool2D) layer. This layer simply acts as a downsampling filter. It looks at the 2 neighboring pixels and picks the maximal value. These are used to reduce computational cost, and to some extent also reduce overfitting. We have to choose the pooling size (i.e the area size pooled each time) more the pooling dimension is high, more the downsampling is important.\n",
    "\n",
    "Combining convolutional and pooling layers, CNN are able to combine local features and learn more global features of the image.\n",
    "\n",
    "Dropout is a regularization method, where a proportion of nodes in the layer are randomly ignored (setting their wieghts to zero) for each training sample. This drops randomly a propotion of the network and forces the network to learn features in a distributed way. This technique also improves generalization and reduces the overfitting.\n",
    "\n",
    "**'relu' is the rectifier (activation function max(0,x)). The rectifier activation function is used to add non linearity to the network.**\n",
    "\n",
    "The Flatten layer is use to convert the final feature maps into a one single 1D vector. This flattening step is needed so that you can make use of fully connected layers after some convolutional/maxpool layers. It combines all the found local features of the previous convolutional layers.\n",
    "\n",
    "In the end we used the features in two fully-connected (Dense) layers which is just artificial neural networks (ANN) classifier. In the last layer (Dense(10,activation=\"softmax\")) the net outputs distribution of probability of each class."
   ]
  },
  {
   "cell_type": "markdown",
   "metadata": {},
   "source": [
    "### Rectified Linear Unit (ReLU)"
   ]
  },
  {
   "cell_type": "code",
   "execution_count": 16,
   "metadata": {},
   "outputs": [
    {
     "name": "stdout",
     "output_type": "stream",
     "text": [
      "Using Relu  13.172165193457149\n"
     ]
    }
   ],
   "source": [
    "start = time.clock()\n",
    "\n",
    "# Set the CNN model \n",
    "# my CNN architechture is:\n",
    "# In -> [[Conv2D->relu]*2 -> MaxPool2D -> Dropout]*2 -> Flatten -> Dense -> Dropout -> Out\n",
    "\n",
    "model = Sequential()\n",
    "\n",
    "model.add(Conv2D(filters = 32, kernel_size = (5,5),padding = 'Same', \n",
    "                 activation ='relu', input_shape = (28,28,1)))\n",
    "model.add(Conv2D(filters = 32, kernel_size = (5,5),padding = 'Same', \n",
    "                 activation ='relu'))\n",
    "model.add(MaxPool2D(pool_size=(2,2)))\n",
    "model.add(Dropout(0.25))\n",
    "\n",
    "\n",
    "model.add(Conv2D(filters = 64, kernel_size = (3,3),padding = 'Same', \n",
    "                 activation ='relu'))\n",
    "model.add(Conv2D(filters = 64, kernel_size = (3,3),padding = 'Same', \n",
    "                 activation ='relu'))\n",
    "model.add(MaxPool2D(pool_size=(2,2), strides=(2,2)))\n",
    "model.add(Dropout(0.25))\n",
    "\n",
    "\n",
    "model.add(Flatten())\n",
    "model.add(Dense(256, activation = \"relu\"))\n",
    "model.add(Dropout(0.5))\n",
    "model.add(Dense(10, activation = \"softmax\"))\n",
    "  \n",
    "print (\"Using Relu \",time.clock() - start)"
   ]
  },
  {
   "cell_type": "markdown",
   "metadata": {},
   "source": [
    "### TanH"
   ]
  },
  {
   "cell_type": "code",
   "execution_count": 17,
   "metadata": {},
   "outputs": [
    {
     "name": "stdout",
     "output_type": "stream",
     "text": [
      "Using tanh :  0.2915879644108639\n"
     ]
    }
   ],
   "source": [
    "start = time.clock()\n",
    "\n",
    "# Set the CNN model \n",
    "# my CNN architechture is:\n",
    "# In -> [[Conv2D->tanh]*2 -> MaxPool2D -> Dropout]*2 -> Flatten -> Dense -> Dropout -> Out\n",
    "\n",
    "model = Sequential()\n",
    "\n",
    "model.add(Conv2D(filters = 32, kernel_size = (5,5),padding = 'Same', \n",
    "                 activation ='tanh', input_shape = (28,28,1)))\n",
    "model.add(Conv2D(filters = 32, kernel_size = (5,5),padding = 'Same', \n",
    "                 activation ='tanh'))\n",
    "model.add(MaxPool2D(pool_size=(2,2)))\n",
    "model.add(Dropout(0.25))\n",
    "\n",
    "\n",
    "model.add(Conv2D(filters = 64, kernel_size = (3,3),padding = 'Same', \n",
    "                 activation ='tanh'))\n",
    "model.add(Conv2D(filters = 64, kernel_size = (3,3),padding = 'Same', \n",
    "                 activation ='tanh'))\n",
    "model.add(MaxPool2D(pool_size=(2,2), strides=(2,2)))\n",
    "model.add(Dropout(0.25))\n",
    "\n",
    "\n",
    "model.add(Flatten())\n",
    "model.add(Dense(256, activation = \"tanh\"))\n",
    "model.add(Dropout(0.5))\n",
    "model.add(Dense(10, activation = \"softmax\"))\n",
    "  \n",
    "print (\"Using tanh : \",time.clock() - start)"
   ]
  },
  {
   "cell_type": "markdown",
   "metadata": {},
   "source": [
    "### Scaled Exponential Linear Unit (SELU)"
   ]
  },
  {
   "cell_type": "code",
   "execution_count": 18,
   "metadata": {},
   "outputs": [
    {
     "name": "stdout",
     "output_type": "stream",
     "text": [
      "Using selu : 6.911236228794126\n"
     ]
    }
   ],
   "source": [
    "start = time.clock()\n",
    "\n",
    "# Set the CNN model \n",
    "# my CNN architechture is:\n",
    "# In -> [[Conv2D->selu]*2 -> MaxPool2D -> Dropout]*2 -> Flatten -> Dense -> Dropout -> Out\n",
    "\n",
    "model = Sequential()\n",
    "\n",
    "model.add(Conv2D(filters = 32, kernel_size = (5,5),padding = 'Same', \n",
    "                 activation ='selu', input_shape = (28,28,1)))\n",
    "model.add(Conv2D(filters = 32, kernel_size = (5,5),padding = 'Same', \n",
    "                 activation ='selu'))\n",
    "model.add(MaxPool2D(pool_size=(2,2)))\n",
    "model.add(Dropout(0.25))\n",
    "\n",
    "\n",
    "model.add(Conv2D(filters = 64, kernel_size = (3,3),padding = 'Same', \n",
    "                 activation ='selu'))\n",
    "model.add(Conv2D(filters = 64, kernel_size = (3,3),padding = 'Same', \n",
    "                 activation ='selu'))\n",
    "model.add(MaxPool2D(pool_size=(2,2), strides=(2,2)))\n",
    "model.add(Dropout(0.25))\n",
    "\n",
    "\n",
    "model.add(Flatten())\n",
    "model.add(Dense(256, activation = \"selu\"))\n",
    "model.add(Dropout(0.5))\n",
    "model.add(Dense(10, activation = \"softmax\"))\n",
    "  \n",
    "print (\"Using selu :\",time.clock() - start)"
   ]
  },
  {
   "cell_type": "markdown",
   "metadata": {},
   "source": [
    "### Exponential Linear Unit (ELU)"
   ]
  },
  {
   "cell_type": "code",
   "execution_count": 19,
   "metadata": {},
   "outputs": [
    {
     "name": "stdout",
     "output_type": "stream",
     "text": [
      "Using elu : 0.4311596506281177\n"
     ]
    }
   ],
   "source": [
    "start = time.clock()\n",
    "\n",
    "# Set the CNN model \n",
    "# my CNN architechture is:\n",
    "# In -> [[Conv2D->elu]*2 -> MaxPool2D -> Dropout]*2 -> Flatten -> Dense -> Dropout -> Out\n",
    "\n",
    "model = Sequential()\n",
    "\n",
    "model.add(Conv2D(filters = 32, kernel_size = (5,5),padding = 'Same', \n",
    "                 activation ='elu', input_shape = (28,28,1)))\n",
    "model.add(Conv2D(filters = 32, kernel_size = (5,5),padding = 'Same', \n",
    "                 activation ='elu'))\n",
    "model.add(MaxPool2D(pool_size=(2,2)))\n",
    "model.add(Dropout(0.25))\n",
    "\n",
    "\n",
    "model.add(Conv2D(filters = 64, kernel_size = (3,3),padding = 'Same', \n",
    "                 activation ='elu'))\n",
    "model.add(Conv2D(filters = 64, kernel_size = (3,3),padding = 'Same', \n",
    "                 activation ='elu'))\n",
    "model.add(MaxPool2D(pool_size=(2,2), strides=(2,2)))\n",
    "model.add(Dropout(0.25))\n",
    "\n",
    "\n",
    "model.add(Flatten())\n",
    "model.add(Dense(256, activation = \"elu\"))\n",
    "model.add(Dropout(0.5))\n",
    "model.add(Dense(10, activation = \"softmax\"))\n",
    "  \n",
    "print (\"Using elu :\",time.clock() - start)"
   ]
  },
  {
   "cell_type": "markdown",
   "metadata": {},
   "source": [
    "Set the optimizer and annealer.\n",
    "Once our layers are added to the model, we need to set up a score function, a loss function and an optimisation algorithm.\n",
    "\n",
    "We define the loss function to measure how poorly our model performs on images with known labels. It is the error rate between the oberved labels and the predicted ones. We use a specific form for categorical classifications (>2 classes) called the \"categorical_crossentropy\".\n",
    "\n",
    "The most important function is the optimizer. This function will iteratively improve parameters (filters kernel values, weights and bias of neurons ...) in order to minimise the loss.\n",
    "\n",
    "RMSprop (with default values), it is a very effective optimizer. The RMSProp update adjusts the Adagrad method in a very simple way in an attempt to reduce its aggressive, monotonically decreasing learning rate. We could also have used Stochastic Gradient Descent ('sgd') optimizer, but it is slower than RMSprop.\n",
    "\n",
    "The metric function \"accuracy\" is used is to evaluate the performance our model. This metric function is similar to the loss function, except that the results from the metric evaluation are not used when training the model (only for evaluation)."
   ]
  },
  {
   "cell_type": "code",
   "execution_count": 20,
   "metadata": {
    "collapsed": true
   },
   "outputs": [],
   "source": [
    "# Define the optimizer\n",
    "optimizer = RMSprop(lr=0.001, rho=0.9, epsilon=1e-08, decay=0.0)"
   ]
  },
  {
   "cell_type": "markdown",
   "metadata": {},
   "source": [
    "# Part C - Cost Function"
   ]
  },
  {
   "cell_type": "code",
   "execution_count": 21,
   "metadata": {
    "collapsed": true
   },
   "outputs": [],
   "source": [
    "# Compile the model\n",
    "model.compile(optimizer = optimizer , loss = \"categorical_crossentropy\", metrics=[\"accuracy\"])"
   ]
  },
  {
   "cell_type": "code",
   "execution_count": 22,
   "metadata": {
    "collapsed": true
   },
   "outputs": [],
   "source": [
    "model.compile(optimizer = optimizer , loss = \"mean_absolute_error\", metrics=[\"accuracy\"])"
   ]
  },
  {
   "cell_type": "code",
   "execution_count": 23,
   "metadata": {
    "collapsed": true
   },
   "outputs": [],
   "source": [
    "model.compile(optimizer = optimizer , loss = \"mean_squared_error\", metrics=[\"accuracy\"])"
   ]
  },
  {
   "cell_type": "code",
   "execution_count": 24,
   "metadata": {
    "collapsed": true
   },
   "outputs": [],
   "source": [
    "model.compile(optimizer = optimizer , loss = \"hinge\", metrics=[\"accuracy\"])"
   ]
  },
  {
   "cell_type": "code",
   "execution_count": 25,
   "metadata": {
    "collapsed": true
   },
   "outputs": [],
   "source": [
    "# Set a learning rate annealer\n",
    "learning_rate_reduction = ReduceLROnPlateau(monitor='val_acc', \n",
    "                                            patience=3, \n",
    "                                            verbose=1, \n",
    "                                            factor=0.5, \n",
    "                                            min_lr=0.00001)"
   ]
  },
  {
   "cell_type": "code",
   "execution_count": 26,
   "metadata": {
    "collapsed": true
   },
   "outputs": [],
   "source": [
    "epochs = 1 # Turn epochs to 30 to get 0.9967 accuracy\n",
    "batch_size = 86"
   ]
  },
  {
   "cell_type": "code",
   "execution_count": 27,
   "metadata": {
    "collapsed": true
   },
   "outputs": [],
   "source": [
    "datagen = ImageDataGenerator(\n",
    "        featurewise_center=False,  # set input mean to 0 over the dataset\n",
    "        samplewise_center=False,  # set each sample mean to 0\n",
    "        featurewise_std_normalization=False,  # divide inputs by std of the dataset\n",
    "        samplewise_std_normalization=False,  # divide each input by its std\n",
    "        zca_whitening=False,  # apply ZCA whitening\n",
    "        rotation_range=10,  # randomly rotate images in the range (degrees, 0 to 180)\n",
    "        zoom_range = 0.1, # Randomly zoom image \n",
    "        width_shift_range=0.1,  # randomly shift images horizontally (fraction of total width)\n",
    "        height_shift_range=0.1,  # randomly shift images vertically (fraction of total height)\n",
    "        horizontal_flip=False,  # randomly flip images\n",
    "        vertical_flip=False)  # randomly flip images\n",
    "\n",
    "\n",
    "datagen.fit(X_train)"
   ]
  },
  {
   "cell_type": "code",
   "execution_count": 28,
   "metadata": {},
   "outputs": [
    {
     "name": "stdout",
     "output_type": "stream",
     "text": [
      "Epoch 1/1\n",
      " - 368s - loss: 0.9285 - acc: 0.7179 - val_loss: 0.9129 - val_acc: 0.8719\n"
     ]
    }
   ],
   "source": [
    "# Fit the model\n",
    "history = model.fit_generator(datagen.flow(X_train,Y_train, batch_size=batch_size),\n",
    "                              epochs = epochs, validation_data = (X_val,Y_val),\n",
    "                              verbose = 2, steps_per_epoch=X_train.shape[0] // batch_size\n",
    "                              , callbacks=[learning_rate_reduction])"
   ]
  },
  {
   "cell_type": "markdown",
   "metadata": {},
   "source": [
    "categorical_crossentropy\n",
    "Epoch 1/2\n",
    " - 267s - loss: 0.2255 - acc: 0.9561 - val_loss: 0.0704 - val_acc: 0.9876\n",
    "Epoch 2/2\n",
    " - 211s - loss: 0.1852 - acc: 0.9610 - val_loss: 0.0508 - val_acc: 0.9871"
   ]
  },
  {
   "cell_type": "markdown",
   "metadata": {},
   "source": [
    "mean_absolute_error\n",
    "Epoch 1/2\n",
    " - 206s - loss: 0.0136 - acc: 0.9323 - val_loss: 0.0052 - val_acc: 0.9748\n",
    "Epoch 2/2\n",
    " - 210s - loss: 0.0128 - acc: 0.9366 - val_loss: 0.0047 - val_acc: 0.9767"
   ]
  },
  {
   "cell_type": "markdown",
   "metadata": {},
   "source": [
    "Mean Squared error :\n",
    "Epoch 1/2\n",
    " - 229s - loss: 0.0240 - acc: 0.8346 - val_loss: 0.0062 - val_acc: 0.9629\n",
    "Epoch 2/2\n",
    " - 229s - loss: 0.0134 - acc: 0.9215 - val_loss: 0.0056 - val_acc: 0.9683"
   ]
  },
  {
   "cell_type": "markdown",
   "metadata": {},
   "source": [
    "Hinge\n",
    "Epoch 1/2\n",
    " - 204s - loss: 0.9041 - acc: 0.9594 - val_loss: 0.9015 - val_acc: 0.9857\n",
    "Epoch 2/2\n",
    " - 206s - loss: 0.9037 - acc: 0.9636 - val_loss: 0.9018 - val_acc: 0.9824\n"
   ]
  },
  {
   "cell_type": "markdown",
   "metadata": {},
   "source": [
    "# Part D - Epochs"
   ]
  },
  {
   "cell_type": "markdown",
   "metadata": {},
   "source": [
    "Below is change of accuracy when we chane the epoch frequency:\n",
    "Epoch 3/10\n",
    " - 268s - loss: 0.0664 - acc: 0.9810 - val_loss: 0.0352 - val_acc: 0.9907\n",
    "Epoch 4/10\n",
    " - 266s - loss: 0.0641 - acc: 0.9819 - val_loss: 0.0204 - val_acc: 0.9938\n",
    "Epoch 5/10\n",
    " - 270s - loss: 0.0611 - acc: 0.9829 - val_loss: 0.0329 - val_acc: 0.9898\n",
    "Epoch 6/10\n",
    " - 283s - loss: 0.0621 - acc: 0.9825 - val_loss: 0.0255 - val_acc: 0.9924\n",
    "Epoch 7/10\n",
    " - 294s - loss: 0.0631 - acc: 0.9825 - val_loss: 0.0191 - val_acc: 0.9940\n",
    "Epoch 8/10\n",
    " - 288s - loss: 0.0595 - acc: 0.9843 - val_loss: 0.0254 - val_acc: 0.9933\n",
    "Epoch 9/10\n",
    " - 229s - loss: 0.0600 - acc: 0.9838 - val_loss: 0.0234 - val_acc: 0.9938\n",
    "Epoch 10/10\n",
    " - 222s - loss: 0.0631 - acc: 0.9831 - val_loss: 0.0243 - val_acc: 0.9914"
   ]
  },
  {
   "cell_type": "markdown",
   "metadata": {},
   "source": [
    "Evaluate the model Training and Validation Curves"
   ]
  },
  {
   "cell_type": "code",
   "execution_count": 29,
   "metadata": {},
   "outputs": [
    {
     "data": {
      "image/png": "[encoded data removed]",
      "text/plain": [
       "<matplotlib.figure.Figure at 0x1ef00581a58>"
      ]
     },
     "metadata": {},
     "output_type": "display_data"
    }
   ],
   "source": [
    "# Plot the loss and accuracy curves for training and validation \n",
    "fig, ax = plt.subplots(2,1)\n",
    "ax[0].plot(history.history['loss'], color='b', label=\"Training loss\")\n",
    "ax[0].plot(history.history['val_loss'], color='r', label=\"validation loss\",axes =ax[0])\n",
    "legend = ax[0].legend(loc='best', shadow=True)\n",
    "\n",
    "ax[1].plot(history.history['acc'], color='b', label=\"Training accuracy\")\n",
    "ax[1].plot(history.history['val_acc'], color='r',label=\"Validation accuracy\")\n",
    "legend = ax[1].legend(loc='best', shadow=True)"
   ]
  },
  {
   "cell_type": "markdown",
   "metadata": {},
   "source": [
    "### Confusion matrix"
   ]
  },
  {
   "cell_type": "code",
   "execution_count": 30,
   "metadata": {},
   "outputs": [
    {
     "data": {
      "image/png": "[encoded data removed]",
      "text/plain": [
       "<matplotlib.figure.Figure at 0x1ef7503ad68>"
      ]
     },
     "metadata": {},
     "output_type": "display_data"
    }
   ],
   "source": [
    "# Look at confusion matrix \n",
    "\n",
    "def plot_confusion_matrix(cm, classes,\n",
    "                          normalize=False,\n",
    "                          title='Confusion matrix',\n",
    "                          cmap=plt.cm.Blues):\n",
    "    \"\"\"\n",
    "    This function prints and plots the confusion matrix.\n",
    "    Normalization can be applied by setting `normalize=True`.\n",
    "    \"\"\"\n",
    "    plt.imshow(cm, interpolation='nearest', cmap=cmap)\n",
    "    plt.title(title)\n",
    "    plt.colorbar()\n",
    "    tick_marks = np.arange(len(classes))\n",
    "    plt.xticks(tick_marks, classes, rotation=45)\n",
    "    plt.yticks(tick_marks, classes)\n",
    "\n",
    "    if normalize:\n",
    "        cm = cm.astype('float') / cm.sum(axis=1)[:, np.newaxis]\n",
    "\n",
    "    thresh = cm.max() / 2.\n",
    "    for i, j in itertools.product(range(cm.shape[0]), range(cm.shape[1])):\n",
    "        plt.text(j, i, cm[i, j],\n",
    "                 horizontalalignment=\"center\",\n",
    "                 color=\"white\" if cm[i, j] > thresh else \"black\")\n",
    "\n",
    "    plt.tight_layout()\n",
    "    plt.ylabel('True label')\n",
    "    plt.xlabel('Predicted label')\n",
    "\n",
    "# Predict the values from the validation dataset\n",
    "Y_pred = model.predict(X_val)\n",
    "# Convert predictions classes to one hot vectors \n",
    "Y_pred_classes = np.argmax(Y_pred,axis = 1) \n",
    "# Convert validation observations to one hot vectors\n",
    "Y_true = np.argmax(Y_val,axis = 1) \n",
    "# compute the confusion matrix\n",
    "confusion_mtx = confusion_matrix(Y_true, Y_pred_classes) \n",
    "# plot the confusion matrix\n",
    "plot_confusion_matrix(confusion_mtx, classes = range(10)) "
   ]
  },
  {
   "cell_type": "markdown",
   "metadata": {},
   "source": [
    "# Part E - Gradient Estimation"
   ]
  },
  {
   "cell_type": "code",
   "execution_count": 31,
   "metadata": {},
   "outputs": [
    {
     "name": "stdout",
     "output_type": "stream",
     "text": [
      "Experimenting on sgd\n",
      "Experimenting on momentum\n",
      "Experimenting on nesterov\n",
      "Experimenting on adagrad\n",
      "Experimenting on rmsprop\n",
      "Experimenting on adam\n",
      "\n",
      "sgd => mean accuracy: 0.8658666666666667, std: 0.017187075247276813\n",
      "momentum => mean accuracy: 0.7189333333333333, std: 0.16773863266668443\n",
      "nesterov => mean accuracy: 0.7629333333333334, std: 0.09716917663996588\n",
      "adagrad => mean accuracy: 0.7301333333333333, std: 0.2057232661179144\n",
      "rmsprop => mean accuracy: 0.8754666666666667, std: 0.0024729649321322067\n",
      "adam => mean accuracy: 0.8778666666666667, std: 0.0037142368739157706\n"
     ]
    }
   ],
   "source": [
    "n_feature = 2\n",
    "n_class = 2\n",
    "\n",
    "\n",
    "def make_network(n_hidden=100):\n",
    "    model = dict(\n",
    "        W1=np.random.randn(n_feature, n_hidden),\n",
    "        W2=np.random.randn(n_hidden, n_class)\n",
    "    )\n",
    "\n",
    "    return model\n",
    "\n",
    "\n",
    "def softmax(x):\n",
    "    e_x = np.exp(x - np.max(x))\n",
    "    return e_x / e_x.sum()\n",
    "\n",
    "\n",
    "def forward(x, model):\n",
    "    # Input to hidden\n",
    "    h = x @ model['W1']\n",
    "    h[h < 0] = 0\n",
    "\n",
    "    # Hidden to output\n",
    "    prob = softmax(h @ model['W2'])\n",
    "\n",
    "    return h, prob\n",
    "\n",
    "\n",
    "def backward(model, xs, hs, errs):\n",
    "    dW2 = hs.T @ errs\n",
    "\n",
    "    dh = errs @ model['W2'].T\n",
    "    dh[hs < 0] = 0\n",
    "    dW1 = xs.T @ dh\n",
    "\n",
    "    return dict(W1=dW1, W2=dW2)\n",
    "\n",
    "\n",
    "def get_minibatch_grad(model, X_train, y_train):\n",
    "    xs, hs, errs = [], [], []\n",
    "\n",
    "    for x, cls_idx in zip(X_train, y_train):\n",
    "        h, y_pred = forward(x, model)\n",
    "\n",
    "        y_true = np.zeros(n_class)\n",
    "        y_true[int(cls_idx)] = 1.\n",
    "        err = y_true - y_pred\n",
    "\n",
    "        xs.append(x)\n",
    "        hs.append(h)\n",
    "        errs.append(err)\n",
    "\n",
    "    return backward(model, np.array(xs), np.array(hs), np.array(errs))\n",
    "\n",
    "\n",
    "def get_minibatch(X, y, minibatch_size):\n",
    "    minibatches = []\n",
    "\n",
    "    X, y = shuffle(X, y)\n",
    "\n",
    "    for i in range(0, X.shape[0], minibatch_size):\n",
    "        X_mini = X[i:i + minibatch_size]\n",
    "        y_mini = y[i:i + minibatch_size]\n",
    "\n",
    "        minibatches.append((X_mini, y_mini))\n",
    "\n",
    "    return minibatches\n",
    "\n",
    "\n",
    "def sgd(model, X_train, y_train, minibatch_size):\n",
    "    minibatches = get_minibatch(X_train, y_train, minibatch_size)\n",
    "\n",
    "    for iter in range(1, n_iter + 1):\n",
    "        idx = np.random.randint(0, len(minibatches))\n",
    "        X_mini, y_mini = minibatches[idx]\n",
    "\n",
    "        grad = get_minibatch_grad(model, X_mini, y_mini)\n",
    "\n",
    "        for layer in grad:\n",
    "            model[layer] += alpha * grad[layer]\n",
    "\n",
    "    return model\n",
    "\n",
    "\n",
    "def momentum(model, X_train, y_train, minibatch_size):\n",
    "    velocity = {k: np.zeros_like(v) for k, v in model.items()}\n",
    "    gamma = .9\n",
    "\n",
    "    minibatches = get_minibatch(X_train, y_train, minibatch_size)\n",
    "\n",
    "    for iter in range(1, n_iter + 1):\n",
    "        idx = np.random.randint(0, len(minibatches))\n",
    "        X_mini, y_mini = minibatches[idx]\n",
    "\n",
    "        grad = get_minibatch_grad(model, X_mini, y_mini)\n",
    "\n",
    "        for layer in grad:\n",
    "            velocity[layer] = gamma * velocity[layer] + alpha * grad[layer]\n",
    "            model[layer] += velocity[layer]\n",
    "\n",
    "    return model\n",
    "\n",
    "\n",
    "def nesterov(model, X_train, y_train, minibatch_size):\n",
    "    velocity = {k: np.zeros_like(v) for k, v in model.items()}\n",
    "    gamma = .9\n",
    "\n",
    "    minibatches = get_minibatch(X_train, y_train, minibatch_size)\n",
    "\n",
    "    for iter in range(1, n_iter + 1):\n",
    "        idx = np.random.randint(0, len(minibatches))\n",
    "        X_mini, y_mini = minibatches[idx]\n",
    "\n",
    "        model_ahead = {k: v + gamma * velocity[k] for k, v in model.items()}\n",
    "        grad = get_minibatch_grad(model, X_mini, y_mini)\n",
    "\n",
    "        for layer in grad:\n",
    "            velocity[layer] = gamma * velocity[layer] + alpha * grad[layer]\n",
    "            model[layer] += velocity[layer]\n",
    "\n",
    "    return model\n",
    "\n",
    "\n",
    "def adagrad(model, X_train, y_train, minibatch_size):\n",
    "    cache = {k: np.zeros_like(v) for k, v in model.items()}\n",
    "\n",
    "    minibatches = get_minibatch(X_train, y_train, minibatch_size)\n",
    "\n",
    "    for iter in range(1, n_iter + 1):\n",
    "        idx = np.random.randint(0, len(minibatches))\n",
    "        X_mini, y_mini = minibatches[idx]\n",
    "\n",
    "        grad = get_minibatch_grad(model, X_mini, y_mini)\n",
    "\n",
    "        for k in grad:\n",
    "            cache[k] += grad[k]**2\n",
    "            model[k] += alpha * grad[k] / (np.sqrt(cache[k]) + eps)\n",
    "\n",
    "    return model\n",
    "\n",
    "\n",
    "def rmsprop(model, X_train, y_train, minibatch_size):\n",
    "    cache = {k: np.zeros_like(v) for k, v in model.items()}\n",
    "    gamma = .9\n",
    "\n",
    "    minibatches = get_minibatch(X_train, y_train, minibatch_size)\n",
    "\n",
    "    for iter in range(1, n_iter + 1):\n",
    "        idx = np.random.randint(0, len(minibatches))\n",
    "        X_mini, y_mini = minibatches[idx]\n",
    "\n",
    "        grad = get_minibatch_grad(model, X_mini, y_mini)\n",
    "\n",
    "        for k in grad:\n",
    "            cache[k] = gamma * cache[k] + (1 - gamma) * (grad[k]**2)\n",
    "            model[k] += alpha * grad[k] / (np.sqrt(cache[k]) + eps)\n",
    "\n",
    "    return model\n",
    "\n",
    "\n",
    "def adam(model, X_train, y_train, minibatch_size):\n",
    "    M = {k: np.zeros_like(v) for k, v in model.items()}\n",
    "    R = {k: np.zeros_like(v) for k, v in model.items()}\n",
    "    beta1 = .9\n",
    "    beta2 = .999\n",
    "\n",
    "    minibatches = get_minibatch(X_train, y_train, minibatch_size)\n",
    "\n",
    "    for iter in range(1, n_iter + 1):\n",
    "        t = iter\n",
    "        idx = np.random.randint(0, len(minibatches))\n",
    "        X_mini, y_mini = minibatches[idx]\n",
    "\n",
    "        grad = get_minibatch_grad(model, X_mini, y_mini)\n",
    "\n",
    "        for k in grad:\n",
    "            M[k] = beta1 * M[k] + (1. - beta1) * grad[k]\n",
    "            R[k] = beta2 * R[k] + (1. - beta2) * grad[k]**2\n",
    "\n",
    "            m_k_hat = M[k] / (1. - beta1**(t))\n",
    "            r_k_hat = R[k] / (1. - beta2**(t))\n",
    "\n",
    "            model[k] += alpha * m_k_hat / (np.sqrt(r_k_hat) + eps)\n",
    "\n",
    "    return model\n",
    "\n",
    "\n",
    "def shuffle(X, y):\n",
    "    Z = np.column_stack((X, y))\n",
    "    np.random.shuffle(Z)\n",
    "    return Z[:, :-1], Z[:, -1]\n",
    "\n",
    "\n",
    "if __name__ == '__main__':\n",
    "    \n",
    "    X, y = make_moons(n_samples=5000, random_state=42, noise=0.1)\n",
    "    X_train, X_test, y_train, y_test = train_test_split(X, y, random_state=42)\n",
    "    \n",
    "    n_iter = 100\n",
    "    eps = 1e-8  # Smoothing to avoid division by zero\n",
    "    alpha = 1e-2\n",
    "    minibatch_size = 100\n",
    "    n_experiment = 3\n",
    "\n",
    "    algos = dict(\n",
    "        sgd=sgd,\n",
    "        momentum=momentum,\n",
    "        nesterov=nesterov,\n",
    "        adagrad=adagrad,\n",
    "        rmsprop=rmsprop,\n",
    "        adam=adam\n",
    "    )\n",
    "\n",
    "    algo_accs = {k: np.zeros(n_experiment) for k in algos}\n",
    "\n",
    "    for algo_name, algo in algos.items():\n",
    "        print('Experimenting on {}'.format(algo_name))\n",
    "\n",
    "        for k in range(n_experiment):\n",
    "            # print('Experiment-{}'.format(k))\n",
    "\n",
    "            # Reset model\n",
    "            model = make_network()\n",
    "            model = algo(model, X_train, y_train, minibatch_size)\n",
    "\n",
    "            y_pred = np.zeros_like(y_test)\n",
    "\n",
    "            for i, x in enumerate(X_test):\n",
    "                _, prob = forward(x, model)\n",
    "                y = np.argmax(prob)\n",
    "                y_pred[i] = y\n",
    "\n",
    "            algo_accs[algo_name][k] = np.mean(y_pred == y_test)\n",
    "\n",
    "    print()\n",
    "\n",
    "    for k, v in algo_accs.items():\n",
    "        print('{} => mean accuracy: {}, std: {}'.format(k, v.mean(), v.std()))"
   ]
  },
  {
   "cell_type": "markdown",
   "metadata": {},
   "source": [
    "Investigate for errors:\n",
    "* The most important errors\n",
    "* Get the difference between the probabilities of real value and the predicted ones in the results"
   ]
  },
  {
   "cell_type": "code",
   "execution_count": 32,
   "metadata": {},
   "outputs": [
    {
     "data": {
      "image/png": "[encoded data removed]",
      "text/plain": [
       "<matplotlib.figure.Figure at 0x1ef1a2f4898>"
      ]
     },
     "metadata": {},
     "output_type": "display_data"
    }
   ],
   "source": [
    "# Display some error results \n",
    "\n",
    "# Errors are difference between predicted labels and true labels\n",
    "errors = (Y_pred_classes - Y_true != 0)\n",
    "\n",
    "Y_pred_classes_errors = Y_pred_classes[errors]\n",
    "Y_pred_errors = Y_pred[errors]\n",
    "Y_true_errors = Y_true[errors]\n",
    "X_val_errors = X_val[errors]\n",
    "\n",
    "def display_errors(errors_index,img_errors,pred_errors, obs_errors):\n",
    "    \"\"\" This function shows 6 images with their predicted and real labels\"\"\"\n",
    "    n = 0\n",
    "    nrows = 2\n",
    "    ncols = 3\n",
    "    fig, ax = plt.subplots(nrows,ncols,sharex=True,sharey=True)\n",
    "    for row in range(nrows):\n",
    "        for col in range(ncols):\n",
    "            error = errors_index[n]\n",
    "            ax[row,col].imshow((img_errors[error]).reshape((28,28)))\n",
    "            ax[row,col].set_title(\"Predicted label :{}\\nTrue label :{}\".format(pred_errors[error],obs_errors[error]))\n",
    "            n += 1\n",
    "\n",
    "# Probabilities of the wrong predicted numbers\n",
    "Y_pred_errors_prob = np.max(Y_pred_errors,axis = 1)\n",
    "\n",
    "# Predicted probabilities of the true values in the error set\n",
    "true_prob_errors = np.diagonal(np.take(Y_pred_errors, Y_true_errors, axis=1))\n",
    "\n",
    "# Difference between the probability of the predicted label and the true label\n",
    "delta_pred_true_errors = Y_pred_errors_prob - true_prob_errors\n",
    "\n",
    "# Sorted list of the delta prob errors\n",
    "sorted_dela_errors = np.argsort(delta_pred_true_errors)\n",
    "\n",
    "# Top 6 errors \n",
    "most_important_errors = sorted_dela_errors[-6:]\n",
    "\n",
    "# Show the top 6 errors\n",
    "display_errors(most_important_errors, X_val_errors, Y_pred_classes_errors, Y_true_errors)"
   ]
  },
  {
   "cell_type": "markdown",
   "metadata": {},
   "source": [
    "The most important errors are also the most intrigous.\n",
    "For those six case, the model is not ridiculous. Some of these errors can also be made by humans, especially for one the 3 that is very close to a 8. The 9 is also very misleading, it seems that it is a 0."
   ]
  },
  {
   "cell_type": "code",
   "execution_count": 33,
   "metadata": {
    "collapsed": true
   },
   "outputs": [],
   "source": [
    "# predict results\n",
    "# results = model.predict(test)\n",
    "\n",
    "# select the indix with the maximum probability\n",
    "# results = np.argmax(results,axis = 1)\n",
    "\n",
    "# results = pd.Series(results,name=\"Label\")"
   ]
  },
  {
   "cell_type": "markdown",
   "metadata": {},
   "source": [
    "# Part F- Network Architecture"
   ]
  },
  {
   "cell_type": "code",
   "execution_count": 34,
   "metadata": {},
   "outputs": [
    {
     "name": "stdout",
     "output_type": "stream",
     "text": [
      "Using Relu  0.17021916596019082\n"
     ]
    }
   ],
   "source": [
    "start = time.clock()\n",
    "\n",
    "# Set the CNN model \n",
    "# my CNN architechture is In:\n",
    "# -> [[Conv2D->relu]*2 -> MaxPool2D -> Dropout]*2 -> Flatten -> Dense -> Dropout -> Out\n",
    "\n",
    "model = Sequential()\n",
    "\n",
    "model.add(Conv2D(filters = 32, kernel_size = (5,5),padding = 'Same', \n",
    "                 activation ='relu', input_shape = (28,28,1)))\n",
    "model.add(Conv2D(filters = 32, kernel_size = (5,5),padding = 'Same', \n",
    "                 activation ='relu'))\n",
    "model.add(MaxPool2D(pool_size=(2,2)))\n",
    "model.add(Dropout(0.25))\n",
    "\n",
    "\n",
    "model.add(Conv2D(filters = 64, kernel_size = (3,3),padding = 'Same', \n",
    "                 activation ='relu'))\n",
    "model.add(Conv2D(filters = 64, kernel_size = (3,3),padding = 'Same', \n",
    "                 activation ='relu'))\n",
    "model.add(MaxPool2D(pool_size=(2,2), strides=(2,2)))\n",
    "model.add(Dropout(0.25))\n",
    "\n",
    "\n",
    "model.add(Flatten())\n",
    "model.add(Dense(128, activation = \"relu\"))\n",
    "model.add(Dropout(0.5))\n",
    "model.add(Dense(50, activation = \"softmax\"))\n",
    "  \n",
    "print (\"Using Relu \",time.clock() - start)"
   ]
  },
  {
   "cell_type": "code",
   "execution_count": 35,
   "metadata": {
    "collapsed": true
   },
   "outputs": [],
   "source": [
    "#submission = pd.concat([pd.Series(range(1,28001),name = \"ImageId\"),results],axis = 1)\n",
    "#submission.to_csv(\"cnn_mnist_datagen.csv\",index=False)"
   ]
  },
  {
   "cell_type": "code",
   "execution_count": 36,
   "metadata": {
    "collapsed": true
   },
   "outputs": [],
   "source": [
    "import numpy as np\n",
    "import matplotlib.pyplot as plt\n",
    "import pandas as pd"
   ]
  },
  {
   "cell_type": "code",
   "execution_count": 37,
   "metadata": {
    "collapsed": true
   },
   "outputs": [],
   "source": [
    "datast = pd.read_csv('Churn_Modelling.csv')\n",
    "p = datast.iloc[:, 3:13].values\n",
    "t = datast.iloc[:, 13].values"
   ]
  },
  {
   "cell_type": "code",
   "execution_count": 38,
   "metadata": {
    "collapsed": true
   },
   "outputs": [],
   "source": [
    "from sklearn.preprocessing import LabelEncoder, OneHotEncoder\n",
    "labelencoder_X_1 = LabelEncoder()\n",
    "p[:, 1] = labelencoder_X_1.fit_transform(p[:, 1])\n",
    "\n",
    "labelencoder_X_2 = LabelEncoder()\n",
    "p[:, 2] = labelencoder_X_2.fit_transform(p[:, 2])\n",
    "\n",
    "onehotencoder = OneHotEncoder(categorical_features = [1])\n",
    "p = onehotencoder.fit_transform(p).toarray()\n",
    "\n",
    "p=p[:,1:]"
   ]
  },
  {
   "cell_type": "code",
   "execution_count": 39,
   "metadata": {
    "collapsed": true
   },
   "outputs": [],
   "source": [
    "from sklearn.model_selection import train_test_split\n",
    "X_train, X_test, y_train, y_test = train_test_split(p, t, test_size = 0.25, random_state = 0)\n",
    "\n",
    "# Feature Scaling\n",
    "from sklearn.preprocessing import StandardScaler\n",
    "sc = StandardScaler()\n",
    "X_train = sc.fit_transform(X_train)\n",
    "X_test = sc.transform(X_test)"
   ]
  },
  {
   "cell_type": "code",
   "execution_count": 40,
   "metadata": {
    "collapsed": true
   },
   "outputs": [],
   "source": [
    "# Making ANN\n",
    "\n",
    "#importing keras lib and packages\n",
    "import keras\n",
    "from keras.models import Sequential\n",
    "from keras.layers import Dense\n",
    "\n",
    "#initializing ANN\n",
    "classifiero = Sequential()"
   ]
  },
  {
   "cell_type": "code",
   "execution_count": 41,
   "metadata": {},
   "outputs": [
    {
     "name": "stderr",
     "output_type": "stream",
     "text": [
      "C:\\Users\\eklav\\Anaconda3\\lib\\site-packages\\ipykernel_launcher.py:11: UserWarning: Update your `Dense` call to the Keras 2 API: `Dense(activation=\"sigmoid\", kernel_initializer=\"uniform\", units=1)`\n",
      "  # This is added back by InteractiveShellApp.init_path()\n"
     ]
    }
   ],
   "source": [
    "# adding input layer and first hidden layer\n",
    "classifiero.add(Dense(units=6, activation='relu', kernel_initializer='uniform', input_dim=11))\n",
    "\n",
    "# adding second hidden layer ()\n",
    "classifiero.add(Dense(units=6, activation='relu', kernel_initializer='uniform'))\n",
    "\n",
    "# adding third hidden layer()\n",
    "#classifier.add(Dense(units=6, activation='relu', kernel_initializer='uniform'))\n",
    "\n",
    "# Adding output layer\n",
    "classifiero.add(Dense(output_dim=1, activation='sigmoid', kernel_initializer='uniform'))\n",
    "\n",
    "# Compiling the ANN\n",
    "classifiero.compile(optimizer='adam', loss='binary_crossentropy', metrics=['accuracy'])"
   ]
  },
  {
   "cell_type": "code",
   "execution_count": 42,
   "metadata": {},
   "outputs": [
    {
     "name": "stdout",
     "output_type": "stream",
     "text": [
      "Epoch 1/100\n",
      "7500/7500 [==============================] - 3s 441us/step - loss: 0.4649 - acc: 0.7961\n",
      "Epoch 2/100\n",
      "7500/7500 [==============================] - 5s 612us/step - loss: 0.4249 - acc: 0.7963\n",
      "Epoch 3/100\n",
      "7500/7500 [==============================] - 2s 293us/step - loss: 0.4180 - acc: 0.8225\n",
      "Epoch 4/100\n",
      "7500/7500 [==============================] - ETA: 0s - loss: 0.4172 - acc: 0.824 - 3s 373us/step - loss: 0.4161 - acc: 0.8253\n",
      "Epoch 5/100\n",
      "7500/7500 [==============================] - 3s 360us/step - loss: 0.4134 - acc: 0.8289\n",
      "Epoch 6/100\n",
      "7500/7500 [==============================] - 3s 336us/step - loss: 0.4125 - acc: 0.8312\n",
      "Epoch 7/100\n",
      "7500/7500 [==============================] - 3s 369us/step - loss: 0.4110 - acc: 0.8335\n",
      "Epoch 8/100\n",
      "7500/7500 [==============================] - 3s 411us/step - loss: 0.4104 - acc: 0.8329\n",
      "Epoch 9/100\n",
      "7500/7500 [==============================] - 3s 403us/step - loss: 0.4088 - acc: 0.8343\n",
      "Epoch 10/100\n",
      "7500/7500 [==============================] - 3s 353us/step - loss: 0.4086 - acc: 0.8333\n",
      "Epoch 11/100\n",
      "7500/7500 [==============================] - 2s 322us/step - loss: 0.4083 - acc: 0.8351\n",
      "Epoch 12/100\n",
      "7500/7500 [==============================] - 2s 314us/step - loss: 0.4073 - acc: 0.8345\n",
      "Epoch 13/100\n",
      "7500/7500 [==============================] - 2s 306us/step - loss: 0.4068 - acc: 0.8337\n",
      "Epoch 14/100\n",
      "7500/7500 [==============================] - 2s 294us/step - loss: 0.4064 - acc: 0.8353 0s - loss: 0.3985 \n",
      "Epoch 15/100\n",
      "7500/7500 [==============================] - 2s 303us/step - loss: 0.4058 - acc: 0.8337 1s - loss: \n",
      "Epoch 16/100\n",
      "7500/7500 [==============================] - 3s 339us/step - loss: 0.4049 - acc: 0.8317\n",
      "Epoch 17/100\n",
      "7500/7500 [==============================] - 3s 359us/step - loss: 0.4054 - acc: 0.8339\n",
      "Epoch 18/100\n",
      "7500/7500 [==============================] - 3s 339us/step - loss: 0.4049 - acc: 0.8315\n",
      "Epoch 19/100\n",
      "7500/7500 [==============================] - 3s 340us/step - loss: 0.4044 - acc: 0.8353 1s - loss:\n",
      "Epoch 20/100\n",
      "7500/7500 [==============================] - 3s 353us/step - loss: 0.4049 - acc: 0.8332\n",
      "Epoch 21/100\n",
      "7500/7500 [==============================] - 3s 350us/step - loss: 0.4040 - acc: 0.8335\n",
      "Epoch 22/100\n",
      "7500/7500 [==============================] - 3s 352us/step - loss: 0.4041 - acc: 0.8333 1s - loss: 0.4029  - ETA: \n",
      "Epoch 23/100\n",
      "7500/7500 [==============================] - 3s 404us/step - loss: 0.4041 - acc: 0.8339\n",
      "Epoch 24/100\n",
      "7500/7500 [==============================] - 4s 477us/step - loss: 0.4033 - acc: 0.8335\n",
      "Epoch 25/100\n",
      "7500/7500 [==============================] - 2s 314us/step - loss: 0.4039 - acc: 0.8351\n",
      "Epoch 26/100\n",
      "7500/7500 [==============================] - 3s 350us/step - loss: 0.4032 - acc: 0.8324\n",
      "Epoch 27/100\n",
      "7500/7500 [==============================] - 2s 330us/step - loss: 0.4035 - acc: 0.8329 1s - loss\n",
      "Epoch 28/100\n",
      "7500/7500 [==============================] - 2s 332us/step - loss: 0.4033 - acc: 0.8343\n",
      "Epoch 29/100\n",
      "7500/7500 [==============================] - 2s 313us/step - loss: 0.4028 - acc: 0.8335 1s - \n",
      "Epoch 30/100\n",
      "7500/7500 [==============================] - 2s 306us/step - loss: 0.4030 - acc: 0.8316\n",
      "Epoch 31/100\n",
      "7500/7500 [==============================] - 3s 374us/step - loss: 0.4021 - acc: 0.8365\n",
      "Epoch 32/100\n",
      "7500/7500 [==============================] - 3s 342us/step - loss: 0.4033 - acc: 0.8337 0s - loss: 0.4014 - acc: 0\n",
      "Epoch 33/100\n",
      "7500/7500 [==============================] - 3s 339us/step - loss: 0.4030 - acc: 0.8348\n",
      "Epoch 34/100\n",
      "7500/7500 [==============================] - 2s 322us/step - loss: 0.4027 - acc: 0.8339 0s - loss: 0.3992\n",
      "Epoch 35/100\n",
      "7500/7500 [==============================] - 2s 327us/step - loss: 0.4019 - acc: 0.8341\n",
      "Epoch 36/100\n",
      "7500/7500 [==============================] - 2s 322us/step - loss: 0.4026 - acc: 0.8348\n",
      "Epoch 37/100\n",
      "7500/7500 [==============================] - 3s 370us/step - loss: 0.4025 - acc: 0.8355\n",
      "Epoch 38/100\n",
      "7500/7500 [==============================] - 3s 352us/step - loss: 0.4029 - acc: 0.8340\n",
      "Epoch 39/100\n",
      "7500/7500 [==============================] - 3s 355us/step - loss: 0.4023 - acc: 0.8335\n",
      "Epoch 40/100\n",
      "7500/7500 [==============================] - 2s 331us/step - loss: 0.4024 - acc: 0.8343\n",
      "Epoch 41/100\n",
      "7500/7500 [==============================] - 2s 330us/step - loss: 0.4021 - acc: 0.8345\n",
      "Epoch 42/100\n",
      "7500/7500 [==============================] - 2s 316us/step - loss: 0.4018 - acc: 0.8339\n",
      "Epoch 43/100\n",
      "7500/7500 [==============================] - 3s 386us/step - loss: 0.4023 - acc: 0.8349\n",
      "Epoch 44/100\n",
      "7500/7500 [==============================] - 2s 331us/step - loss: 0.4027 - acc: 0.8345\n",
      "Epoch 45/100\n",
      "7500/7500 [==============================] - 3s 350us/step - loss: 0.4021 - acc: 0.8339\n",
      "Epoch 46/100\n",
      "7500/7500 [==============================] - 2s 333us/step - loss: 0.4019 - acc: 0.8344\n",
      "Epoch 47/100\n",
      "7500/7500 [==============================] - 4s 489us/step - loss: 0.4017 - acc: 0.8349\n",
      "Epoch 48/100\n",
      "7500/7500 [==============================] - 3s 466us/step - loss: 0.4013 - acc: 0.8355\n",
      "Epoch 49/100\n",
      "7500/7500 [==============================] - 2s 327us/step - loss: 0.4023 - acc: 0.8345\n",
      "Epoch 50/100\n",
      "7500/7500 [==============================] - 2s 330us/step - loss: 0.4014 - acc: 0.8349\n",
      "Epoch 51/100\n",
      "7500/7500 [==============================] - 3s 354us/step - loss: 0.4017 - acc: 0.8341\n",
      "Epoch 52/100\n",
      "7500/7500 [==============================] - 5s 605us/step - loss: 0.4013 - acc: 0.8329\n",
      "Epoch 53/100\n",
      "7500/7500 [==============================] - 3s 389us/step - loss: 0.4017 - acc: 0.8341\n",
      "Epoch 54/100\n",
      "7500/7500 [==============================] - 4s 467us/step - loss: 0.4013 - acc: 0.8353\n",
      "Epoch 55/100\n",
      "7500/7500 [==============================] - 3s 345us/step - loss: 0.4017 - acc: 0.8343\n",
      "Epoch 56/100\n",
      "7500/7500 [==============================] - 2s 325us/step - loss: 0.4019 - acc: 0.8343\n",
      "Epoch 57/100\n",
      "7500/7500 [==============================] - 2s 317us/step - loss: 0.4018 - acc: 0.8356\n",
      "Epoch 58/100\n",
      "7500/7500 [==============================] - 2s 330us/step - loss: 0.4022 - acc: 0.8323\n",
      "Epoch 59/100\n",
      "7500/7500 [==============================] - 2s 315us/step - loss: 0.4014 - acc: 0.8341\n",
      "Epoch 60/100\n",
      "7500/7500 [==============================] - 2s 331us/step - loss: 0.4019 - acc: 0.8335\n",
      "Epoch 61/100\n",
      "7500/7500 [==============================] - 2s 317us/step - loss: 0.4017 - acc: 0.8336\n",
      "Epoch 62/100\n",
      "7500/7500 [==============================] - 2s 320us/step - loss: 0.4021 - acc: 0.8336\n",
      "Epoch 63/100\n",
      "7500/7500 [==============================] - 2s 321us/step - loss: 0.4014 - acc: 0.8325\n",
      "Epoch 64/100\n",
      "7500/7500 [==============================] - 2s 319us/step - loss: 0.4011 - acc: 0.8348 0s - loss: 0.4003 - \n",
      "Epoch 65/100\n",
      "7500/7500 [==============================] - 2s 322us/step - loss: 0.4021 - acc: 0.8335\n",
      "Epoch 66/100\n",
      "7500/7500 [==============================] - 2s 315us/step - loss: 0.4015 - acc: 0.8353\n",
      "Epoch 67/100\n",
      "7500/7500 [==============================] - 2s 320us/step - loss: 0.4016 - acc: 0.8352\n",
      "Epoch 68/100\n",
      "7500/7500 [==============================] - 3s 334us/step - loss: 0.4015 - acc: 0.8355 0s - loss: 0\n",
      "Epoch 69/100\n",
      "7500/7500 [==============================] - 3s 418us/step - loss: 0.4013 - acc: 0.8336\n",
      "Epoch 70/100\n",
      "7500/7500 [==============================] - 2s 297us/step - loss: 0.4019 - acc: 0.8335\n",
      "Epoch 71/100\n",
      "7500/7500 [==============================] - 3s 345us/step - loss: 0.4018 - acc: 0.8344\n",
      "Epoch 72/100\n",
      "7500/7500 [==============================] - 2s 329us/step - loss: 0.4008 - acc: 0.8333 0s - loss: 0.39\n",
      "Epoch 73/100\n",
      "7500/7500 [==============================] - 2s 261us/step - loss: 0.4013 - acc: 0.8353\n",
      "Epoch 74/100\n",
      "7500/7500 [==============================] - 2s 295us/step - loss: 0.4015 - acc: 0.8333\n",
      "Epoch 75/100\n",
      "7500/7500 [==============================] - 2s 310us/step - loss: 0.4009 - acc: 0.8351\n",
      "Epoch 76/100\n",
      "7500/7500 [==============================] - 2s 307us/step - loss: 0.4017 - acc: 0.8347\n",
      "Epoch 77/100\n",
      "7500/7500 [==============================] - 2s 333us/step - loss: 0.4017 - acc: 0.8336\n",
      "Epoch 78/100\n",
      "7500/7500 [==============================] - 2s 328us/step - loss: 0.4016 - acc: 0.8343\n",
      "Epoch 79/100\n",
      "7500/7500 [==============================] - 3s 334us/step - loss: 0.4011 - acc: 0.8329\n",
      "Epoch 80/100\n"
     ]
    },
    {
     "name": "stdout",
     "output_type": "stream",
     "text": [
      "7500/7500 [==============================] - 3s 344us/step - loss: 0.4012 - acc: 0.8373\n",
      "Epoch 81/100\n",
      "7500/7500 [==============================] - 3s 354us/step - loss: 0.4012 - acc: 0.8343\n",
      "Epoch 82/100\n",
      "7500/7500 [==============================] - 3s 382us/step - loss: 0.4012 - acc: 0.8351\n",
      "Epoch 83/100\n",
      "7500/7500 [==============================] - 3s 362us/step - loss: 0.4004 - acc: 0.8328 1s - loss: 0.4077 - acc: - ETA: 1s - loss\n",
      "Epoch 84/100\n",
      "7500/7500 [==============================] - 3s 363us/step - loss: 0.4011 - acc: 0.8364\n",
      "Epoch 85/100\n",
      "7500/7500 [==============================] - 3s 352us/step - loss: 0.4010 - acc: 0.8351\n",
      "Epoch 86/100\n",
      "7500/7500 [==============================] - 3s 372us/step - loss: 0.4008 - acc: 0.8353\n",
      "Epoch 87/100\n",
      "7500/7500 [==============================] - 3s 366us/step - loss: 0.4016 - acc: 0.8341\n",
      "Epoch 88/100\n",
      "7500/7500 [==============================] - 3s 368us/step - loss: 0.4015 - acc: 0.8351\n",
      "Epoch 89/100\n",
      "7500/7500 [==============================] - 3s 421us/step - loss: 0.4016 - acc: 0.8353\n",
      "Epoch 90/100\n",
      "7500/7500 [==============================] - 3s 372us/step - loss: 0.4006 - acc: 0.8343\n",
      "Epoch 91/100\n",
      "7500/7500 [==============================] - 3s 361us/step - loss: 0.4014 - acc: 0.8348 1s - loss:\n",
      "Epoch 92/100\n",
      "7500/7500 [==============================] - 3s 425us/step - loss: 0.4009 - acc: 0.8345 2s  - ETA: 0\n",
      "Epoch 93/100\n",
      "7500/7500 [==============================] - 3s 390us/step - loss: 0.4013 - acc: 0.8343\n",
      "Epoch 94/100\n",
      "7500/7500 [==============================] - 2s 333us/step - loss: 0.4013 - acc: 0.8341\n",
      "Epoch 95/100\n",
      "7500/7500 [==============================] - 3s 349us/step - loss: 0.4009 - acc: 0.8357\n",
      "Epoch 96/100\n",
      "7500/7500 [==============================] - 3s 366us/step - loss: 0.4011 - acc: 0.8339 \n",
      "Epoch 97/100\n",
      "7500/7500 [==============================] - 3s 351us/step - loss: 0.4012 - acc: 0.8343\n",
      "Epoch 98/100\n",
      "7500/7500 [==============================] - 3s 351us/step - loss: 0.4011 - acc: 0.8340 0s - loss: 0.4040 - acc:\n",
      "Epoch 99/100\n",
      "7500/7500 [==============================] - 3s 349us/step - loss: 0.4013 - acc: 0.8344\n",
      "Epoch 100/100\n",
      "7500/7500 [==============================] - 3s 347us/step - loss: 0.4004 - acc: 0.8351 2s - loss: 0.448 - ETA: 1s\n"
     ]
    }
   ],
   "source": [
    "classifiero.fit(X_train, y_train, batch_size=5, epochs=100)\n",
    "\n",
    "# Predicting the Test set results\n",
    "y_pred = classifiero.predict(X_test)\n",
    "y_pred = (y_pred > 0.5)\n",
    "# Making the Confusion Matrix\n",
    "from sklearn.metrics import confusion_matrix\n",
    "cmo = confusion_matrix(y_test, y_pred)"
   ]
  },
  {
   "cell_type": "code",
   "execution_count": 43,
   "metadata": {},
   "outputs": [
    {
     "data": {
      "text/plain": [
       "array([[1935,   56],\n",
       "       [ 331,  178]], dtype=int64)"
      ]
     },
     "execution_count": 43,
     "metadata": {},
     "output_type": "execute_result"
    }
   ],
   "source": [
    "from sklearn.metrics import confusion_matrix\n",
    "confusion_matrix(y_test, y_pred)"
   ]
  },
  {
   "cell_type": "markdown",
   "metadata": {},
   "source": [
    "# Part G - Network Initialization"
   ]
  },
  {
   "cell_type": "markdown",
   "metadata": {},
   "source": [
    "<ul>\n",
    "\t<li>Change the network initialization. How does it effect the accuracy?</li>\n",
    "\t<li>How does it effect how quickly the network plateaus?</li>\n",
    "\t<li>Various forms of network initialization:</li>\n",
    "\t<li>Uniform</li>\n",
    "\t<li>Gaussian</li>\n",
    "\t<li>Xavier Glorot Initialization&nbsp;<a href=\"http://andyljones.tumblr.com/post/110998971763/an-explanation-of-xavier-initialization\" target=\"_blank\">http://andyljones.tumblr.com/post/110998971763/an-explanation-of-xavier-initialization</a>\n",
    "\t<ul>\n",
    "\t\t<li>Xavier Uniform</li>\n",
    "\t\t<li>Xavier Gaussian</li>\n",
    "\t</ul>\n",
    "\t</li>\n",
    "</ul>\n"
   ]
  },
  {
   "cell_type": "code",
   "execution_count": 44,
   "metadata": {
    "scrolled": true
   },
   "outputs": [
    {
     "name": "stderr",
     "output_type": "stream",
     "text": [
      "C:\\Users\\eklav\\Anaconda3\\lib\\site-packages\\ipykernel_launcher.py:18: UserWarning: Update your `Dense` call to the Keras 2 API: `Dense(activation=\"sigmoid\", kernel_initializer=\"uniform\", units=1)`\n"
     ]
    },
    {
     "name": "stdout",
     "output_type": "stream",
     "text": [
      "Epoch 1/50\n",
      "7500/7500 [==============================] - 3s 446us/step - loss: 0.5797 - acc: 0.7961\n",
      "Epoch 2/50\n",
      "7500/7500 [==============================] - 3s 385us/step - loss: 0.5121 - acc: 0.7963\n",
      "Epoch 3/50\n",
      "7500/7500 [==============================] - 3s 391us/step - loss: 0.5061 - acc: 0.7963\n",
      "Epoch 4/50\n",
      "7500/7500 [==============================] - 4s 581us/step - loss: 0.5056 - acc: 0.7963\n",
      "Epoch 5/50\n",
      "7500/7500 [==============================] - 4s 470us/step - loss: 0.5056 - acc: 0.7963\n",
      "Epoch 6/50\n",
      "7500/7500 [==============================] - 4s 470us/step - loss: 0.5056 - acc: 0.7963\n",
      "Epoch 7/50\n",
      "7500/7500 [==============================] - 4s 581us/step - loss: 0.5056 - acc: 0.7963\n",
      "Epoch 8/50\n",
      "7500/7500 [==============================] - 3s 375us/step - loss: 0.5056 - acc: 0.7963 1\n",
      "Epoch 9/50\n",
      "7500/7500 [==============================] - 4s 565us/step - loss: 0.5056 - acc: 0.7963\n",
      "Epoch 10/50\n",
      "7500/7500 [==============================] - 3s 427us/step - loss: 0.5056 - acc: 0.7963\n",
      "Epoch 11/50\n",
      "7500/7500 [==============================] - 5s 693us/step - loss: 0.5056 - acc: 0.7963 \n",
      "Epoch 12/50\n",
      "7500/7500 [==============================] - 6s 780us/step - loss: 0.5056 - acc: 0.7963\n",
      "Epoch 13/50\n",
      "7500/7500 [==============================] - 5s 696us/step - loss: 0.5056 - acc: 0.7963\n",
      "Epoch 14/50\n",
      "7500/7500 [==============================] - 3s 457us/step - loss: 0.5056 - acc: 0.7963\n",
      "Epoch 15/50\n",
      "7500/7500 [==============================] - 3s 431us/step - loss: 0.5056 - acc: 0.7963\n",
      "Epoch 16/50\n",
      "7500/7500 [==============================] - 3s 352us/step - loss: 0.5056 - acc: 0.7963\n",
      "Epoch 17/50\n",
      "7500/7500 [==============================] - 3s 362us/step - loss: 0.5056 - acc: 0.7963\n",
      "Epoch 18/50\n",
      "7500/7500 [==============================] - 3s 357us/step - loss: 0.5056 - acc: 0.7963\n",
      "Epoch 19/50\n",
      "7500/7500 [==============================] - 3s 366us/step - loss: 0.5056 - acc: 0.7963\n",
      "Epoch 20/50\n",
      "7500/7500 [==============================] - 3s 363us/step - loss: 0.5056 - acc: 0.7963\n",
      "Epoch 21/50\n",
      "7500/7500 [==============================] - 3s 363us/step - loss: 0.5056 - acc: 0.7963\n",
      "Epoch 22/50\n",
      "7500/7500 [==============================] - 3s 370us/step - loss: 0.5056 - acc: 0.7963\n",
      "Epoch 23/50\n",
      "7500/7500 [==============================] - 5s 624us/step - loss: 0.5056 - acc: 0.7963\n",
      "Epoch 24/50\n",
      "7500/7500 [==============================] - 3s 438us/step - loss: 0.5056 - acc: 0.7963\n",
      "Epoch 25/50\n",
      "7500/7500 [==============================] - 3s 427us/step - loss: 0.5056 - acc: 0.7963\n",
      "Epoch 26/50\n",
      "7500/7500 [==============================] - 3s 427us/step - loss: 0.5056 - acc: 0.7963\n",
      "Epoch 27/50\n",
      "7500/7500 [==============================] - 3s 423us/step - loss: 0.5056 - acc: 0.7963\n",
      "Epoch 28/50\n",
      "7500/7500 [==============================] - 3s 420us/step - loss: 0.5056 - acc: 0.7963\n",
      "Epoch 29/50\n",
      "7500/7500 [==============================] - 3s 458us/step - loss: 0.5056 - acc: 0.7963\n",
      "Epoch 30/50\n",
      "7500/7500 [==============================] - 4s 472us/step - loss: 0.5056 - acc: 0.7963\n",
      "Epoch 31/50\n",
      "7500/7500 [==============================] - 3s 387us/step - loss: 0.5056 - acc: 0.7963\n",
      "Epoch 32/50\n",
      "7500/7500 [==============================] - 3s 396us/step - loss: 0.5056 - acc: 0.7963\n",
      "Epoch 33/50\n",
      "7500/7500 [==============================] - 3s 459us/step - loss: 0.5056 - acc: 0.7963\n",
      "Epoch 34/50\n",
      "7500/7500 [==============================] - 4s 521us/step - loss: 0.5056 - acc: 0.7963\n",
      "Epoch 35/50\n",
      "7500/7500 [==============================] - 4s 558us/step - loss: 0.5056 - acc: 0.7963\n",
      "Epoch 36/50\n",
      "7500/7500 [==============================] - 4s 589us/step - loss: 0.5056 - acc: 0.7963\n",
      "Epoch 37/50\n",
      "7500/7500 [==============================] - 3s 447us/step - loss: 0.5056 - acc: 0.7963\n",
      "Epoch 38/50\n",
      "7500/7500 [==============================] - 3s 389us/step - loss: 0.5056 - acc: 0.7963\n",
      "Epoch 39/50\n",
      "7500/7500 [==============================] - 3s 390us/step - loss: 0.5056 - acc: 0.7963\n",
      "Epoch 40/50\n",
      "7500/7500 [==============================] - 3s 399us/step - loss: 0.5056 - acc: 0.7963\n",
      "Epoch 41/50\n",
      "7500/7500 [==============================] - 3s 397us/step - loss: 0.5056 - acc: 0.7963\n",
      "Epoch 42/50\n",
      "7500/7500 [==============================] - 3s 401us/step - loss: 0.5056 - acc: 0.7963\n",
      "Epoch 43/50\n",
      "7500/7500 [==============================] - 3s 441us/step - loss: 0.5056 - acc: 0.7963\n",
      "Epoch 44/50\n",
      "7500/7500 [==============================] - 4s 491us/step - loss: 0.5056 - acc: 0.7963\n",
      "Epoch 45/50\n",
      "7500/7500 [==============================] - 6s 739us/step - loss: 0.5056 - acc: 0.7963\n",
      "Epoch 46/50\n",
      "7500/7500 [==============================] - 4s 587us/step - loss: 0.5056 - acc: 0.7963\n",
      "Epoch 47/50\n",
      "7500/7500 [==============================] - 3s 399us/step - loss: 0.5056 - acc: 0.7963\n",
      "Epoch 48/50\n",
      "7500/7500 [==============================] - 4s 492us/step - loss: 0.5056 - acc: 0.7963\n",
      "Epoch 49/50\n",
      "7500/7500 [==============================] - 3s 433us/step - loss: 0.5056 - acc: 0.7963\n",
      "Epoch 50/50\n",
      "7500/7500 [==============================] - 3s 434us/step - loss: 0.5056 - acc: 0.7963\n"
     ]
    }
   ],
   "source": [
    "classifiero5 = Sequential()\n",
    "\n",
    "# adding input layer and first hidden layer\n",
    "classifiero5.add(Dense(units=6, activation='relu', kernel_initializer='uniform', input_dim=11))\n",
    "\n",
    "# adding second hidden layer ()\n",
    "classifiero5.add(Dense(units=6, activation='relu', kernel_initializer='uniform'))\n",
    "\n",
    "# adding third hidden layer()\n",
    "\n",
    "classifiero5.add(Dense(units=6, activation='relu', kernel_initializer='uniform'))\n",
    "\n",
    "# adding fourth hidden layer()\n",
    "\n",
    "classifiero5.add(Dense(units=6, activation='relu', kernel_initializer='uniform'))\n",
    "\n",
    "# Adding output layer\n",
    "classifiero5.add(Dense(output_dim=1, activation='sigmoid', kernel_initializer='uniform'))\n",
    "\n",
    "# Compiling the ANN\n",
    "classifiero5.compile(optimizer='adam', loss='binary_crossentropy', metrics=['accuracy'])\n",
    "\n",
    "# Fitting ANN to the training set\n",
    "classifiero5.fit(X_train, y_train, batch_size=5, epochs=50)\n",
    "\n",
    "# Predicting the Test set results\n",
    "y_pred5 = classifiero5.predict(X_test)\n",
    "y_pred5 = (y_pred5 > 0.5)\n",
    "# Making the Confusion Matrix\n",
    "from sklearn.metrics import confusion_matrix\n",
    "cmo5 = confusion_matrix(y_test, y_pred5)"
   ]
  },
  {
   "cell_type": "code",
   "execution_count": 46,
   "metadata": {},
   "outputs": [
    {
     "data": {
      "text/plain": [
       "array([[1991,    0],\n",
       "       [ 509,    0]], dtype=int64)"
      ]
     },
     "execution_count": 46,
     "metadata": {},
     "output_type": "execute_result"
    }
   ],
   "source": [
    "confusion_matrix(y_test, y_pred5)"
   ]
  }
 ],
 "metadata": {
  "kernelspec": {
   "display_name": "Python 3",
   "language": "python",
   "name": "python3"
  },
  "language_info": {
   "codemirror_mode": {
    "name": "ipython",
    "version": 3
   },
   "file_extension": ".py",
   "mimetype": "text/x-python",
   "name": "python",
   "nbconvert_exporter": "python",
   "pygments_lexer": "ipython3",
   "version": "3.6.3"
  }
 },
 "nbformat": 4,
 "nbformat_minor": 2
}
